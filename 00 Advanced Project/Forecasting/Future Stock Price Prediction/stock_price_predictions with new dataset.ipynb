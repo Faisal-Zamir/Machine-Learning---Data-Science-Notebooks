{
 "cells": [
  {
   "cell_type": "code",
   "execution_count": 50,
   "metadata": {},
   "outputs": [],
   "source": [
    "import pandas as pd\n",
    "\n",
    "# Load the dataset (adjust file path if needed)\n",
    "df = pd.read_csv(\"A.csv\")"
   ]
  },
  {
   "cell_type": "markdown",
   "id": "2189f271",
   "metadata": {},
   "source": [
    "# EDA\n",
    "# 1. Structure & Overview"
   ]
  },
  {
   "cell_type": "code",
   "execution_count": 51,
   "id": "c795ac0c",
   "metadata": {},
   "outputs": [
    {
     "data": {
      "text/html": [
       "<div>\n",
       "<style scoped>\n",
       "    .dataframe tbody tr th:only-of-type {\n",
       "        vertical-align: middle;\n",
       "    }\n",
       "\n",
       "    .dataframe tbody tr th {\n",
       "        vertical-align: top;\n",
       "    }\n",
       "\n",
       "    .dataframe thead th {\n",
       "        text-align: right;\n",
       "    }\n",
       "</style>\n",
       "<table border=\"1\" class=\"dataframe\">\n",
       "  <thead>\n",
       "    <tr style=\"text-align: right;\">\n",
       "      <th></th>\n",
       "      <th>Date</th>\n",
       "      <th>Open</th>\n",
       "      <th>High</th>\n",
       "      <th>Low</th>\n",
       "      <th>Close</th>\n",
       "      <th>Adj Close</th>\n",
       "      <th>Volume</th>\n",
       "    </tr>\n",
       "  </thead>\n",
       "  <tbody>\n",
       "    <tr>\n",
       "      <th>0</th>\n",
       "      <td>1999-11-18</td>\n",
       "      <td>32.546494</td>\n",
       "      <td>35.765381</td>\n",
       "      <td>28.612303</td>\n",
       "      <td>31.473534</td>\n",
       "      <td>27.068665</td>\n",
       "      <td>62546300</td>\n",
       "    </tr>\n",
       "    <tr>\n",
       "      <th>1</th>\n",
       "      <td>1999-11-19</td>\n",
       "      <td>30.713520</td>\n",
       "      <td>30.758226</td>\n",
       "      <td>28.478184</td>\n",
       "      <td>28.880543</td>\n",
       "      <td>24.838577</td>\n",
       "      <td>15234100</td>\n",
       "    </tr>\n",
       "    <tr>\n",
       "      <th>2</th>\n",
       "      <td>1999-11-22</td>\n",
       "      <td>29.551144</td>\n",
       "      <td>31.473534</td>\n",
       "      <td>28.657009</td>\n",
       "      <td>31.473534</td>\n",
       "      <td>27.068665</td>\n",
       "      <td>6577800</td>\n",
       "    </tr>\n",
       "    <tr>\n",
       "      <th>3</th>\n",
       "      <td>1999-11-23</td>\n",
       "      <td>30.400572</td>\n",
       "      <td>31.205294</td>\n",
       "      <td>28.612303</td>\n",
       "      <td>28.612303</td>\n",
       "      <td>24.607880</td>\n",
       "      <td>5975600</td>\n",
       "    </tr>\n",
       "    <tr>\n",
       "      <th>4</th>\n",
       "      <td>1999-11-24</td>\n",
       "      <td>28.701717</td>\n",
       "      <td>29.998211</td>\n",
       "      <td>28.612303</td>\n",
       "      <td>29.372318</td>\n",
       "      <td>25.261524</td>\n",
       "      <td>4843200</td>\n",
       "    </tr>\n",
       "    <tr>\n",
       "      <th>5</th>\n",
       "      <td>1999-11-26</td>\n",
       "      <td>29.238197</td>\n",
       "      <td>29.685265</td>\n",
       "      <td>29.148785</td>\n",
       "      <td>29.461731</td>\n",
       "      <td>25.338428</td>\n",
       "      <td>1729400</td>\n",
       "    </tr>\n",
       "    <tr>\n",
       "      <th>6</th>\n",
       "      <td>1999-11-29</td>\n",
       "      <td>29.327610</td>\n",
       "      <td>30.355865</td>\n",
       "      <td>29.014664</td>\n",
       "      <td>30.132332</td>\n",
       "      <td>25.915169</td>\n",
       "      <td>4074700</td>\n",
       "    </tr>\n",
       "    <tr>\n",
       "      <th>7</th>\n",
       "      <td>1999-11-30</td>\n",
       "      <td>30.042919</td>\n",
       "      <td>30.713520</td>\n",
       "      <td>29.282904</td>\n",
       "      <td>30.177038</td>\n",
       "      <td>25.953619</td>\n",
       "      <td>4310000</td>\n",
       "    </tr>\n",
       "    <tr>\n",
       "      <th>8</th>\n",
       "      <td>1999-12-01</td>\n",
       "      <td>30.177038</td>\n",
       "      <td>31.071173</td>\n",
       "      <td>29.953505</td>\n",
       "      <td>30.713520</td>\n",
       "      <td>26.415012</td>\n",
       "      <td>2957300</td>\n",
       "    </tr>\n",
       "    <tr>\n",
       "      <th>9</th>\n",
       "      <td>1999-12-02</td>\n",
       "      <td>31.294706</td>\n",
       "      <td>32.188843</td>\n",
       "      <td>30.892345</td>\n",
       "      <td>31.562946</td>\n",
       "      <td>27.145563</td>\n",
       "      <td>3069800</td>\n",
       "    </tr>\n",
       "  </tbody>\n",
       "</table>\n",
       "</div>"
      ],
      "text/plain": [
       "         Date       Open       High        Low      Close  Adj Close    Volume\n",
       "0  1999-11-18  32.546494  35.765381  28.612303  31.473534  27.068665  62546300\n",
       "1  1999-11-19  30.713520  30.758226  28.478184  28.880543  24.838577  15234100\n",
       "2  1999-11-22  29.551144  31.473534  28.657009  31.473534  27.068665   6577800\n",
       "3  1999-11-23  30.400572  31.205294  28.612303  28.612303  24.607880   5975600\n",
       "4  1999-11-24  28.701717  29.998211  28.612303  29.372318  25.261524   4843200\n",
       "5  1999-11-26  29.238197  29.685265  29.148785  29.461731  25.338428   1729400\n",
       "6  1999-11-29  29.327610  30.355865  29.014664  30.132332  25.915169   4074700\n",
       "7  1999-11-30  30.042919  30.713520  29.282904  30.177038  25.953619   4310000\n",
       "8  1999-12-01  30.177038  31.071173  29.953505  30.713520  26.415012   2957300\n",
       "9  1999-12-02  31.294706  32.188843  30.892345  31.562946  27.145563   3069800"
      ]
     },
     "execution_count": 51,
     "metadata": {},
     "output_type": "execute_result"
    }
   ],
   "source": [
    "df.head(10)"
   ]
  },
  {
   "cell_type": "code",
   "execution_count": 52,
   "id": "23d4e5c7",
   "metadata": {},
   "outputs": [
    {
     "name": "stdout",
     "output_type": "stream",
     "text": [
      "(5124, 7)\n",
      "Index(['Date', 'Open', 'High', 'Low', 'Close', 'Adj Close', 'Volume'], dtype='object')\n",
      "<class 'pandas.core.frame.DataFrame'>\n",
      "RangeIndex: 5124 entries, 0 to 5123\n",
      "Data columns (total 7 columns):\n",
      " #   Column     Non-Null Count  Dtype  \n",
      "---  ------     --------------  -----  \n",
      " 0   Date       5124 non-null   object \n",
      " 1   Open       5124 non-null   float64\n",
      " 2   High       5124 non-null   float64\n",
      " 3   Low        5124 non-null   float64\n",
      " 4   Close      5124 non-null   float64\n",
      " 5   Adj Close  5124 non-null   float64\n",
      " 6   Volume     5124 non-null   int64  \n",
      "dtypes: float64(5), int64(1), object(1)\n",
      "memory usage: 280.3+ KB\n",
      "None\n"
     ]
    }
   ],
   "source": [
    "print(df.shape)\n",
    "print(df.columns)\n",
    "print(df.info())"
   ]
  },
  {
   "cell_type": "markdown",
   "id": "fc7bfedd",
   "metadata": {},
   "source": [
    "# Quality Check"
   ]
  },
  {
   "cell_type": "code",
   "execution_count": 53,
   "id": "7b444898",
   "metadata": {},
   "outputs": [
    {
     "data": {
      "text/plain": [
       "np.int64(0)"
      ]
     },
     "execution_count": 53,
     "metadata": {},
     "output_type": "execute_result"
    }
   ],
   "source": [
    "# df.isnull().sum()\n",
    "# df.nunique()\n",
    "# df = df.drop_duplicates()\n",
    "# df[df.duplicated()]\n",
    "df.duplicated().sum()\n",
    "\n"
   ]
  },
  {
   "cell_type": "markdown",
   "id": "359dd2a1",
   "metadata": {},
   "source": [
    "# Summary Statistics"
   ]
  },
  {
   "cell_type": "code",
   "execution_count": 54,
   "id": "75d180ac",
   "metadata": {},
   "outputs": [
    {
     "data": {
      "text/plain": [
       "Open         1.079005\n",
       "High         1.094200\n",
       "Low          1.067634\n",
       "Close        1.082845\n",
       "Adj Close    1.133663\n",
       "Volume       5.488032\n",
       "dtype: float64"
      ]
     },
     "execution_count": 54,
     "metadata": {},
     "output_type": "execute_result"
    }
   ],
   "source": [
    "df.describe()\n",
    "df[['Close','High','Low']].skew()\n",
    "df.select_dtypes(include='number').skew()"
   ]
  },
  {
   "cell_type": "code",
   "execution_count": 55,
   "id": "0a73e72d",
   "metadata": {},
   "outputs": [],
   "source": [
    "import numpy as np\n",
    "# Apply log transformation only\n",
    "df['Volume_log'] = np.log1p(df['Volume'])  # log(1 + Volume)\n",
    "df['Close_log'] = np.log1p(df['Close'])  # Add this line\n"
   ]
  },
  {
   "cell_type": "code",
   "execution_count": 56,
   "id": "8e12b11c",
   "metadata": {},
   "outputs": [
    {
     "data": {
      "text/html": [
       "<div>\n",
       "<style scoped>\n",
       "    .dataframe tbody tr th:only-of-type {\n",
       "        vertical-align: middle;\n",
       "    }\n",
       "\n",
       "    .dataframe tbody tr th {\n",
       "        vertical-align: top;\n",
       "    }\n",
       "\n",
       "    .dataframe thead th {\n",
       "        text-align: right;\n",
       "    }\n",
       "</style>\n",
       "<table border=\"1\" class=\"dataframe\">\n",
       "  <thead>\n",
       "    <tr style=\"text-align: right;\">\n",
       "      <th></th>\n",
       "      <th>Open</th>\n",
       "      <th>High</th>\n",
       "      <th>Low</th>\n",
       "      <th>Close</th>\n",
       "      <th>Adj Close</th>\n",
       "      <th>Volume</th>\n",
       "      <th>Volume_log</th>\n",
       "      <th>Close_log</th>\n",
       "    </tr>\n",
       "  </thead>\n",
       "  <tbody>\n",
       "    <tr>\n",
       "      <th>Open</th>\n",
       "      <td>1.000000</td>\n",
       "      <td>0.999021</td>\n",
       "      <td>0.999181</td>\n",
       "      <td>0.998595</td>\n",
       "      <td>0.995824</td>\n",
       "      <td>-0.287776</td>\n",
       "      <td>-0.427963</td>\n",
       "      <td>0.961314</td>\n",
       "    </tr>\n",
       "    <tr>\n",
       "      <th>High</th>\n",
       "      <td>0.999021</td>\n",
       "      <td>1.000000</td>\n",
       "      <td>0.998277</td>\n",
       "      <td>0.999314</td>\n",
       "      <td>0.995052</td>\n",
       "      <td>-0.280499</td>\n",
       "      <td>-0.420129</td>\n",
       "      <td>0.960932</td>\n",
       "    </tr>\n",
       "    <tr>\n",
       "      <th>Low</th>\n",
       "      <td>0.999181</td>\n",
       "      <td>0.998277</td>\n",
       "      <td>1.000000</td>\n",
       "      <td>0.999085</td>\n",
       "      <td>0.997618</td>\n",
       "      <td>-0.295621</td>\n",
       "      <td>-0.435969</td>\n",
       "      <td>0.962407</td>\n",
       "    </tr>\n",
       "    <tr>\n",
       "      <th>Close</th>\n",
       "      <td>0.998595</td>\n",
       "      <td>0.999314</td>\n",
       "      <td>0.999085</td>\n",
       "      <td>1.000000</td>\n",
       "      <td>0.997035</td>\n",
       "      <td>-0.288488</td>\n",
       "      <td>-0.428089</td>\n",
       "      <td>0.962114</td>\n",
       "    </tr>\n",
       "    <tr>\n",
       "      <th>Adj Close</th>\n",
       "      <td>0.995824</td>\n",
       "      <td>0.995052</td>\n",
       "      <td>0.997618</td>\n",
       "      <td>0.997035</td>\n",
       "      <td>1.000000</td>\n",
       "      <td>-0.295165</td>\n",
       "      <td>-0.435016</td>\n",
       "      <td>0.954411</td>\n",
       "    </tr>\n",
       "    <tr>\n",
       "      <th>Volume</th>\n",
       "      <td>-0.287776</td>\n",
       "      <td>-0.280499</td>\n",
       "      <td>-0.295621</td>\n",
       "      <td>-0.288488</td>\n",
       "      <td>-0.295165</td>\n",
       "      <td>1.000000</td>\n",
       "      <td>0.868019</td>\n",
       "      <td>-0.265791</td>\n",
       "    </tr>\n",
       "    <tr>\n",
       "      <th>Volume_log</th>\n",
       "      <td>-0.427963</td>\n",
       "      <td>-0.420129</td>\n",
       "      <td>-0.435969</td>\n",
       "      <td>-0.428089</td>\n",
       "      <td>-0.435016</td>\n",
       "      <td>0.868019</td>\n",
       "      <td>1.000000</td>\n",
       "      <td>-0.395955</td>\n",
       "    </tr>\n",
       "    <tr>\n",
       "      <th>Close_log</th>\n",
       "      <td>0.961314</td>\n",
       "      <td>0.960932</td>\n",
       "      <td>0.962407</td>\n",
       "      <td>0.962114</td>\n",
       "      <td>0.954411</td>\n",
       "      <td>-0.265791</td>\n",
       "      <td>-0.395955</td>\n",
       "      <td>1.000000</td>\n",
       "    </tr>\n",
       "  </tbody>\n",
       "</table>\n",
       "</div>"
      ],
      "text/plain": [
       "                Open      High       Low     Close  Adj Close    Volume  \\\n",
       "Open        1.000000  0.999021  0.999181  0.998595   0.995824 -0.287776   \n",
       "High        0.999021  1.000000  0.998277  0.999314   0.995052 -0.280499   \n",
       "Low         0.999181  0.998277  1.000000  0.999085   0.997618 -0.295621   \n",
       "Close       0.998595  0.999314  0.999085  1.000000   0.997035 -0.288488   \n",
       "Adj Close   0.995824  0.995052  0.997618  0.997035   1.000000 -0.295165   \n",
       "Volume     -0.287776 -0.280499 -0.295621 -0.288488  -0.295165  1.000000   \n",
       "Volume_log -0.427963 -0.420129 -0.435969 -0.428089  -0.435016  0.868019   \n",
       "Close_log   0.961314  0.960932  0.962407  0.962114   0.954411 -0.265791   \n",
       "\n",
       "            Volume_log  Close_log  \n",
       "Open         -0.427963   0.961314  \n",
       "High         -0.420129   0.960932  \n",
       "Low          -0.435969   0.962407  \n",
       "Close        -0.428089   0.962114  \n",
       "Adj Close    -0.435016   0.954411  \n",
       "Volume        0.868019  -0.265791  \n",
       "Volume_log    1.000000  -0.395955  \n",
       "Close_log    -0.395955   1.000000  "
      ]
     },
     "execution_count": 56,
     "metadata": {},
     "output_type": "execute_result"
    }
   ],
   "source": [
    "df.select_dtypes(include='number').corr()"
   ]
  },
  {
   "cell_type": "code",
   "execution_count": 57,
   "id": "c080f184",
   "metadata": {},
   "outputs": [
    {
     "data": {
      "image/png": "[encoded data removed]",
      "text/plain": [
       "<Figure size 800x600 with 2 Axes>"
      ]
     },
     "metadata": {},
     "output_type": "display_data"
    }
   ],
   "source": [
    "import seaborn as sns\n",
    "import matplotlib.pyplot as plt\n",
    "\n",
    "plt.figure(figsize=(8,6))\n",
    "sns.heatmap(df.select_dtypes(include='number').corr(), annot=True, cmap='coolwarm')\n",
    "plt.show()\n"
   ]
  },
  {
   "cell_type": "code",
   "execution_count": 58,
   "id": "9b830417",
   "metadata": {},
   "outputs": [
    {
     "data": {
      "text/html": [
       "<div>\n",
       "<style scoped>\n",
       "    .dataframe tbody tr th:only-of-type {\n",
       "        vertical-align: middle;\n",
       "    }\n",
       "\n",
       "    .dataframe tbody tr th {\n",
       "        vertical-align: top;\n",
       "    }\n",
       "\n",
       "    .dataframe thead th {\n",
       "        text-align: right;\n",
       "    }\n",
       "</style>\n",
       "<table border=\"1\" class=\"dataframe\">\n",
       "  <thead>\n",
       "    <tr style=\"text-align: right;\">\n",
       "      <th></th>\n",
       "      <th>Open</th>\n",
       "      <th>High</th>\n",
       "      <th>Low</th>\n",
       "      <th>Close</th>\n",
       "      <th>Adj Close</th>\n",
       "      <th>Volume</th>\n",
       "      <th>Volume_log</th>\n",
       "      <th>Close_log</th>\n",
       "    </tr>\n",
       "  </thead>\n",
       "  <tbody>\n",
       "    <tr>\n",
       "      <th>Open</th>\n",
       "      <td>3.462886e+02</td>\n",
       "      <td>3.501453e+02</td>\n",
       "      <td>3.417820e+02</td>\n",
       "      <td>3.458535e+02</td>\n",
       "      <td>3.470978e+02</td>\n",
       "      <td>-1.329075e+07</td>\n",
       "      <td>-4.292488e+00</td>\n",
       "      <td>9.045377</td>\n",
       "    </tr>\n",
       "    <tr>\n",
       "      <th>High</th>\n",
       "      <td>3.501453e+02</td>\n",
       "      <td>3.547394e+02</td>\n",
       "      <td>3.456146e+02</td>\n",
       "      <td>3.503002e+02</td>\n",
       "      <td>3.510351e+02</td>\n",
       "      <td>-1.311180e+07</td>\n",
       "      <td>-4.265021e+00</td>\n",
       "      <td>9.151437</td>\n",
       "    </tr>\n",
       "    <tr>\n",
       "      <th>Low</th>\n",
       "      <td>3.417820e+02</td>\n",
       "      <td>3.456146e+02</td>\n",
       "      <td>3.378875e+02</td>\n",
       "      <td>3.417999e+02</td>\n",
       "      <td>3.434793e+02</td>\n",
       "      <td>-1.348644e+07</td>\n",
       "      <td>-4.319427e+00</td>\n",
       "      <td>8.945133</td>\n",
       "    </tr>\n",
       "    <tr>\n",
       "      <th>Close</th>\n",
       "      <td>3.458535e+02</td>\n",
       "      <td>3.503002e+02</td>\n",
       "      <td>3.417999e+02</td>\n",
       "      <td>3.463915e+02</td>\n",
       "      <td>3.475713e+02</td>\n",
       "      <td>-1.332562e+07</td>\n",
       "      <td>-4.294392e+00</td>\n",
       "      <td>9.054242</td>\n",
       "    </tr>\n",
       "    <tr>\n",
       "      <th>Adj Close</th>\n",
       "      <td>3.470978e+02</td>\n",
       "      <td>3.510351e+02</td>\n",
       "      <td>3.434793e+02</td>\n",
       "      <td>3.475713e+02</td>\n",
       "      <td>3.508327e+02</td>\n",
       "      <td>-1.372117e+07</td>\n",
       "      <td>-4.391766e+00</td>\n",
       "      <td>9.039150</td>\n",
       "    </tr>\n",
       "    <tr>\n",
       "      <th>Volume</th>\n",
       "      <td>-1.329075e+07</td>\n",
       "      <td>-1.311180e+07</td>\n",
       "      <td>-1.348644e+07</td>\n",
       "      <td>-1.332562e+07</td>\n",
       "      <td>-1.372117e+07</td>\n",
       "      <td>6.159606e+12</td>\n",
       "      <td>1.161154e+06</td>\n",
       "      <td>-333548.666102</td>\n",
       "    </tr>\n",
       "    <tr>\n",
       "      <th>Volume_log</th>\n",
       "      <td>-4.292488e+00</td>\n",
       "      <td>-4.265021e+00</td>\n",
       "      <td>-4.319427e+00</td>\n",
       "      <td>-4.294392e+00</td>\n",
       "      <td>-4.391766e+00</td>\n",
       "      <td>1.161154e+06</td>\n",
       "      <td>2.905146e-01</td>\n",
       "      <td>-0.107913</td>\n",
       "    </tr>\n",
       "    <tr>\n",
       "      <th>Close_log</th>\n",
       "      <td>9.045377e+00</td>\n",
       "      <td>9.151437e+00</td>\n",
       "      <td>8.945133e+00</td>\n",
       "      <td>9.054242e+00</td>\n",
       "      <td>9.039150e+00</td>\n",
       "      <td>-3.335487e+05</td>\n",
       "      <td>-1.079125e-01</td>\n",
       "      <td>0.255673</td>\n",
       "    </tr>\n",
       "  </tbody>\n",
       "</table>\n",
       "</div>"
      ],
      "text/plain": [
       "                    Open          High           Low         Close  \\\n",
       "Open        3.462886e+02  3.501453e+02  3.417820e+02  3.458535e+02   \n",
       "High        3.501453e+02  3.547394e+02  3.456146e+02  3.503002e+02   \n",
       "Low         3.417820e+02  3.456146e+02  3.378875e+02  3.417999e+02   \n",
       "Close       3.458535e+02  3.503002e+02  3.417999e+02  3.463915e+02   \n",
       "Adj Close   3.470978e+02  3.510351e+02  3.434793e+02  3.475713e+02   \n",
       "Volume     -1.329075e+07 -1.311180e+07 -1.348644e+07 -1.332562e+07   \n",
       "Volume_log -4.292488e+00 -4.265021e+00 -4.319427e+00 -4.294392e+00   \n",
       "Close_log   9.045377e+00  9.151437e+00  8.945133e+00  9.054242e+00   \n",
       "\n",
       "               Adj Close        Volume    Volume_log      Close_log  \n",
       "Open        3.470978e+02 -1.329075e+07 -4.292488e+00       9.045377  \n",
       "High        3.510351e+02 -1.311180e+07 -4.265021e+00       9.151437  \n",
       "Low         3.434793e+02 -1.348644e+07 -4.319427e+00       8.945133  \n",
       "Close       3.475713e+02 -1.332562e+07 -4.294392e+00       9.054242  \n",
       "Adj Close   3.508327e+02 -1.372117e+07 -4.391766e+00       9.039150  \n",
       "Volume     -1.372117e+07  6.159606e+12  1.161154e+06 -333548.666102  \n",
       "Volume_log -4.391766e+00  1.161154e+06  2.905146e-01      -0.107913  \n",
       "Close_log   9.039150e+00 -3.335487e+05 -1.079125e-01       0.255673  "
      ]
     },
     "execution_count": 58,
     "metadata": {},
     "output_type": "execute_result"
    }
   ],
   "source": [
    "df.select_dtypes(include='number').cov()"
   ]
  },
  {
   "cell_type": "markdown",
   "id": "34334580",
   "metadata": {},
   "source": [
    "# Time Series Preparation"
   ]
  },
  {
   "cell_type": "code",
   "execution_count": 59,
   "id": "3a370063",
   "metadata": {},
   "outputs": [],
   "source": [
    "#  Convert 'Date' column to proper datetime format\n",
    "df['Date'] = pd.to_datetime(df['Date'])\n",
    "\n",
    "# Sort data by date (oldest → newest)\n",
    "df = df.sort_values('Date')\n",
    "\n",
    "# Set 'Date' as the DataFrame index\n",
    "df = df.set_index('Date')"
   ]
  },
  {
   "cell_type": "markdown",
   "id": "b05e194f",
   "metadata": {},
   "source": [
    "# Sampling & Quick View\n"
   ]
  },
  {
   "cell_type": "code",
   "execution_count": 60,
   "id": "c0e032e3",
   "metadata": {},
   "outputs": [
    {
     "data": {
      "text/html": [
       "<div>\n",
       "<style scoped>\n",
       "    .dataframe tbody tr th:only-of-type {\n",
       "        vertical-align: middle;\n",
       "    }\n",
       "\n",
       "    .dataframe tbody tr th {\n",
       "        vertical-align: top;\n",
       "    }\n",
       "\n",
       "    .dataframe thead th {\n",
       "        text-align: right;\n",
       "    }\n",
       "</style>\n",
       "<table border=\"1\" class=\"dataframe\">\n",
       "  <thead>\n",
       "    <tr style=\"text-align: right;\">\n",
       "      <th></th>\n",
       "      <th>Open</th>\n",
       "      <th>High</th>\n",
       "      <th>Low</th>\n",
       "      <th>Close</th>\n",
       "      <th>Adj Close</th>\n",
       "      <th>Volume</th>\n",
       "      <th>Volume_log</th>\n",
       "      <th>Close_log</th>\n",
       "    </tr>\n",
       "    <tr>\n",
       "      <th>Date</th>\n",
       "      <th></th>\n",
       "      <th></th>\n",
       "      <th></th>\n",
       "      <th></th>\n",
       "      <th></th>\n",
       "      <th></th>\n",
       "      <th></th>\n",
       "      <th></th>\n",
       "    </tr>\n",
       "  </thead>\n",
       "  <tbody>\n",
       "    <tr>\n",
       "      <th>2020-03-19</th>\n",
       "      <td>68.540001</td>\n",
       "      <td>68.589996</td>\n",
       "      <td>64.169998</td>\n",
       "      <td>65.760002</td>\n",
       "      <td>65.593071</td>\n",
       "      <td>3430700</td>\n",
       "      <td>15.048275</td>\n",
       "      <td>4.201104</td>\n",
       "    </tr>\n",
       "    <tr>\n",
       "      <th>2020-03-20</th>\n",
       "      <td>65.989998</td>\n",
       "      <td>71.000000</td>\n",
       "      <td>64.959999</td>\n",
       "      <td>66.459999</td>\n",
       "      <td>66.291298</td>\n",
       "      <td>3258400</td>\n",
       "      <td>14.996747</td>\n",
       "      <td>4.211535</td>\n",
       "    </tr>\n",
       "    <tr>\n",
       "      <th>2020-03-23</th>\n",
       "      <td>66.800003</td>\n",
       "      <td>67.559998</td>\n",
       "      <td>62.090000</td>\n",
       "      <td>63.369999</td>\n",
       "      <td>63.209137</td>\n",
       "      <td>2989600</td>\n",
       "      <td>14.910650</td>\n",
       "      <td>4.164648</td>\n",
       "    </tr>\n",
       "    <tr>\n",
       "      <th>2020-03-24</th>\n",
       "      <td>65.529999</td>\n",
       "      <td>68.180000</td>\n",
       "      <td>64.599998</td>\n",
       "      <td>67.000000</td>\n",
       "      <td>66.829926</td>\n",
       "      <td>2868900</td>\n",
       "      <td>14.869440</td>\n",
       "      <td>4.219508</td>\n",
       "    </tr>\n",
       "    <tr>\n",
       "      <th>2020-03-25</th>\n",
       "      <td>67.120003</td>\n",
       "      <td>71.790001</td>\n",
       "      <td>65.110001</td>\n",
       "      <td>69.000000</td>\n",
       "      <td>68.824844</td>\n",
       "      <td>2628100</td>\n",
       "      <td>14.781772</td>\n",
       "      <td>4.248495</td>\n",
       "    </tr>\n",
       "    <tr>\n",
       "      <th>2020-03-26</th>\n",
       "      <td>70.000000</td>\n",
       "      <td>74.449997</td>\n",
       "      <td>69.650002</td>\n",
       "      <td>73.720001</td>\n",
       "      <td>73.532867</td>\n",
       "      <td>3267500</td>\n",
       "      <td>14.999536</td>\n",
       "      <td>4.313748</td>\n",
       "    </tr>\n",
       "    <tr>\n",
       "      <th>2020-03-27</th>\n",
       "      <td>71.550003</td>\n",
       "      <td>73.209999</td>\n",
       "      <td>70.279999</td>\n",
       "      <td>70.910004</td>\n",
       "      <td>70.730003</td>\n",
       "      <td>1829800</td>\n",
       "      <td>14.419718</td>\n",
       "      <td>4.275415</td>\n",
       "    </tr>\n",
       "    <tr>\n",
       "      <th>2020-03-30</th>\n",
       "      <td>71.059998</td>\n",
       "      <td>73.180000</td>\n",
       "      <td>71.059998</td>\n",
       "      <td>72.669998</td>\n",
       "      <td>72.669998</td>\n",
       "      <td>1486200</td>\n",
       "      <td>14.211734</td>\n",
       "      <td>4.299596</td>\n",
       "    </tr>\n",
       "    <tr>\n",
       "      <th>2020-03-31</th>\n",
       "      <td>72.339996</td>\n",
       "      <td>72.800003</td>\n",
       "      <td>70.500000</td>\n",
       "      <td>71.620003</td>\n",
       "      <td>71.620003</td>\n",
       "      <td>1822100</td>\n",
       "      <td>14.415501</td>\n",
       "      <td>4.285240</td>\n",
       "    </tr>\n",
       "    <tr>\n",
       "      <th>2020-04-01</th>\n",
       "      <td>69.470001</td>\n",
       "      <td>70.230003</td>\n",
       "      <td>68.150002</td>\n",
       "      <td>68.919998</td>\n",
       "      <td>68.919998</td>\n",
       "      <td>2173600</td>\n",
       "      <td>14.591896</td>\n",
       "      <td>4.247352</td>\n",
       "    </tr>\n",
       "  </tbody>\n",
       "</table>\n",
       "</div>"
      ],
      "text/plain": [
       "                 Open       High        Low      Close  Adj Close   Volume  \\\n",
       "Date                                                                         \n",
       "2020-03-19  68.540001  68.589996  64.169998  65.760002  65.593071  3430700   \n",
       "2020-03-20  65.989998  71.000000  64.959999  66.459999  66.291298  3258400   \n",
       "2020-03-23  66.800003  67.559998  62.090000  63.369999  63.209137  2989600   \n",
       "2020-03-24  65.529999  68.180000  64.599998  67.000000  66.829926  2868900   \n",
       "2020-03-25  67.120003  71.790001  65.110001  69.000000  68.824844  2628100   \n",
       "2020-03-26  70.000000  74.449997  69.650002  73.720001  73.532867  3267500   \n",
       "2020-03-27  71.550003  73.209999  70.279999  70.910004  70.730003  1829800   \n",
       "2020-03-30  71.059998  73.180000  71.059998  72.669998  72.669998  1486200   \n",
       "2020-03-31  72.339996  72.800003  70.500000  71.620003  71.620003  1822100   \n",
       "2020-04-01  69.470001  70.230003  68.150002  68.919998  68.919998  2173600   \n",
       "\n",
       "            Volume_log  Close_log  \n",
       "Date                               \n",
       "2020-03-19   15.048275   4.201104  \n",
       "2020-03-20   14.996747   4.211535  \n",
       "2020-03-23   14.910650   4.164648  \n",
       "2020-03-24   14.869440   4.219508  \n",
       "2020-03-25   14.781772   4.248495  \n",
       "2020-03-26   14.999536   4.313748  \n",
       "2020-03-27   14.419718   4.275415  \n",
       "2020-03-30   14.211734   4.299596  \n",
       "2020-03-31   14.415501   4.285240  \n",
       "2020-04-01   14.591896   4.247352  "
      ]
     },
     "execution_count": 60,
     "metadata": {},
     "output_type": "execute_result"
    }
   ],
   "source": [
    "# df.sample(4)\n",
    "df.tail(10)"
   ]
  },
  {
   "cell_type": "markdown",
   "id": "82bc5c36",
   "metadata": {},
   "source": [
    "# Memory & Type Check"
   ]
  },
  {
   "cell_type": "code",
   "execution_count": 61,
   "id": "2c25a139",
   "metadata": {},
   "outputs": [
    {
     "data": {
      "text/plain": [
       "Index         40992\n",
       "Open          40992\n",
       "High          40992\n",
       "Low           40992\n",
       "Close         40992\n",
       "Adj Close     40992\n",
       "Volume        40992\n",
       "Volume_log    40992\n",
       "Close_log     40992\n",
       "dtype: int64"
      ]
     },
     "execution_count": 61,
     "metadata": {},
     "output_type": "execute_result"
    }
   ],
   "source": [
    "df.dtypes\n",
    "df.memory_usage(deep=True)"
   ]
  },
  {
   "cell_type": "code",
   "execution_count": 62,
   "id": "c913e756",
   "metadata": {},
   "outputs": [],
   "source": [
    "df = df.drop('Volume', axis=1) # As we have log column column\n",
    "df = df.drop('Close', axis=1) # As we have log column column\n"
   ]
  },
  {
   "cell_type": "code",
   "execution_count": 63,
   "id": "e8b57012",
   "metadata": {},
   "outputs": [
    {
     "data": {
      "text/plain": [
       "['Open', 'High', 'Low', 'Adj Close', 'Volume_log', 'Close_log']"
      ]
     },
     "execution_count": 63,
     "metadata": {},
     "output_type": "execute_result"
    }
   ],
   "source": [
    "df.columns.tolist()"
   ]
  },
  {
   "cell_type": "code",
   "execution_count": 64,
   "id": "d209a04c",
   "metadata": {},
   "outputs": [
    {
     "data": {
      "text/html": [
       "<div>\n",
       "<style scoped>\n",
       "    .dataframe tbody tr th:only-of-type {\n",
       "        vertical-align: middle;\n",
       "    }\n",
       "\n",
       "    .dataframe tbody tr th {\n",
       "        vertical-align: top;\n",
       "    }\n",
       "\n",
       "    .dataframe thead th {\n",
       "        text-align: right;\n",
       "    }\n",
       "</style>\n",
       "<table border=\"1\" class=\"dataframe\">\n",
       "  <thead>\n",
       "    <tr style=\"text-align: right;\">\n",
       "      <th></th>\n",
       "      <th>Open</th>\n",
       "      <th>High</th>\n",
       "      <th>Low</th>\n",
       "      <th>Adj Close</th>\n",
       "      <th>Volume_log</th>\n",
       "      <th>Close_log</th>\n",
       "    </tr>\n",
       "    <tr>\n",
       "      <th>Date</th>\n",
       "      <th></th>\n",
       "      <th></th>\n",
       "      <th></th>\n",
       "      <th></th>\n",
       "      <th></th>\n",
       "      <th></th>\n",
       "    </tr>\n",
       "  </thead>\n",
       "  <tbody>\n",
       "    <tr>\n",
       "      <th>1999-11-18</th>\n",
       "      <td>32.546494</td>\n",
       "      <td>35.765381</td>\n",
       "      <td>28.612303</td>\n",
       "      <td>27.068665</td>\n",
       "      <td>17.951418</td>\n",
       "      <td>3.480425</td>\n",
       "    </tr>\n",
       "    <tr>\n",
       "      <th>1999-11-19</th>\n",
       "      <td>30.713520</td>\n",
       "      <td>30.758226</td>\n",
       "      <td>28.478184</td>\n",
       "      <td>24.838577</td>\n",
       "      <td>16.539047</td>\n",
       "      <td>3.397208</td>\n",
       "    </tr>\n",
       "    <tr>\n",
       "      <th>1999-11-22</th>\n",
       "      <td>29.551144</td>\n",
       "      <td>31.473534</td>\n",
       "      <td>28.657009</td>\n",
       "      <td>27.068665</td>\n",
       "      <td>15.699211</td>\n",
       "      <td>3.480425</td>\n",
       "    </tr>\n",
       "    <tr>\n",
       "      <th>1999-11-23</th>\n",
       "      <td>30.400572</td>\n",
       "      <td>31.205294</td>\n",
       "      <td>28.612303</td>\n",
       "      <td>24.607880</td>\n",
       "      <td>15.603195</td>\n",
       "      <td>3.388190</td>\n",
       "    </tr>\n",
       "    <tr>\n",
       "      <th>1999-11-24</th>\n",
       "      <td>28.701717</td>\n",
       "      <td>29.998211</td>\n",
       "      <td>28.612303</td>\n",
       "      <td>25.261524</td>\n",
       "      <td>15.393086</td>\n",
       "      <td>3.413532</td>\n",
       "    </tr>\n",
       "    <tr>\n",
       "      <th>1999-11-26</th>\n",
       "      <td>29.238197</td>\n",
       "      <td>29.685265</td>\n",
       "      <td>29.148785</td>\n",
       "      <td>25.338428</td>\n",
       "      <td>14.363286</td>\n",
       "      <td>3.416471</td>\n",
       "    </tr>\n",
       "    <tr>\n",
       "      <th>1999-11-29</th>\n",
       "      <td>29.327610</td>\n",
       "      <td>30.355865</td>\n",
       "      <td>29.014664</td>\n",
       "      <td>25.915169</td>\n",
       "      <td>15.220308</td>\n",
       "      <td>3.438247</td>\n",
       "    </tr>\n",
       "    <tr>\n",
       "      <th>1999-11-30</th>\n",
       "      <td>30.042919</td>\n",
       "      <td>30.713520</td>\n",
       "      <td>29.282904</td>\n",
       "      <td>25.953619</td>\n",
       "      <td>15.276449</td>\n",
       "      <td>3.439682</td>\n",
       "    </tr>\n",
       "    <tr>\n",
       "      <th>1999-12-01</th>\n",
       "      <td>30.177038</td>\n",
       "      <td>31.071173</td>\n",
       "      <td>29.953505</td>\n",
       "      <td>26.415012</td>\n",
       "      <td>14.899788</td>\n",
       "      <td>3.456743</td>\n",
       "    </tr>\n",
       "    <tr>\n",
       "      <th>1999-12-02</th>\n",
       "      <td>31.294706</td>\n",
       "      <td>32.188843</td>\n",
       "      <td>30.892345</td>\n",
       "      <td>27.145563</td>\n",
       "      <td>14.937123</td>\n",
       "      <td>3.483175</td>\n",
       "    </tr>\n",
       "  </tbody>\n",
       "</table>\n",
       "</div>"
      ],
      "text/plain": [
       "                 Open       High        Low  Adj Close  Volume_log  Close_log\n",
       "Date                                                                         \n",
       "1999-11-18  32.546494  35.765381  28.612303  27.068665   17.951418   3.480425\n",
       "1999-11-19  30.713520  30.758226  28.478184  24.838577   16.539047   3.397208\n",
       "1999-11-22  29.551144  31.473534  28.657009  27.068665   15.699211   3.480425\n",
       "1999-11-23  30.400572  31.205294  28.612303  24.607880   15.603195   3.388190\n",
       "1999-11-24  28.701717  29.998211  28.612303  25.261524   15.393086   3.413532\n",
       "1999-11-26  29.238197  29.685265  29.148785  25.338428   14.363286   3.416471\n",
       "1999-11-29  29.327610  30.355865  29.014664  25.915169   15.220308   3.438247\n",
       "1999-11-30  30.042919  30.713520  29.282904  25.953619   15.276449   3.439682\n",
       "1999-12-01  30.177038  31.071173  29.953505  26.415012   14.899788   3.456743\n",
       "1999-12-02  31.294706  32.188843  30.892345  27.145563   14.937123   3.483175"
      ]
     },
     "execution_count": 64,
     "metadata": {},
     "output_type": "execute_result"
    }
   ],
   "source": [
    "df.head(10)"
   ]
  },
  {
   "cell_type": "code",
   "execution_count": 65,
   "id": "6eefd28c",
   "metadata": {},
   "outputs": [],
   "source": [
    "# Prepare prophet DataFrame\n",
    "df = df.reset_index() # If not reset, you get error, because Date were index (in previouse step we did it)\n",
    "prophet_df = df[['Date', 'Close_log']].rename(columns={'Date': 'ds', 'Close_log': 'y'})\n",
    "prophet_df = prophet_df.sort_values('ds')\n"
   ]
  },
  {
   "cell_type": "code",
   "execution_count": 66,
   "id": "135cba67",
   "metadata": {},
   "outputs": [],
   "source": [
    "train = prophet_df.iloc[:-30]   # first 5094 rows (training)\n",
    "test  = prophet_df.iloc[-30:]   # last 30 rows (testing)\n"
   ]
  },
  {
   "cell_type": "code",
   "execution_count": 67,
   "id": "ede606ba",
   "metadata": {},
   "outputs": [
    {
     "name": "stderr",
     "output_type": "stream",
     "text": [
      "07:08:55 - cmdstanpy - INFO - Chain [1] start processing\n",
      "07:09:04 - cmdstanpy - INFO - Chain [1] done processing\n"
     ]
    },
    {
     "data": {
      "text/plain": [
       "<prophet.forecaster.Prophet at 0x18cc20c0a50>"
      ]
     },
     "execution_count": 67,
     "metadata": {},
     "output_type": "execute_result"
    }
   ],
   "source": [
    "from prophet import Prophet\n",
    "\n",
    "model = Prophet()\n",
    "model.fit(train)\n"
   ]
  },
  {
   "cell_type": "code",
   "execution_count": 68,
   "id": "a8b0ac3a",
   "metadata": {},
   "outputs": [
    {
     "data": {
      "text/html": [
       "<div>\n",
       "<style scoped>\n",
       "    .dataframe tbody tr th:only-of-type {\n",
       "        vertical-align: middle;\n",
       "    }\n",
       "\n",
       "    .dataframe tbody tr th {\n",
       "        vertical-align: top;\n",
       "    }\n",
       "\n",
       "    .dataframe thead th {\n",
       "        text-align: right;\n",
       "    }\n",
       "</style>\n",
       "<table border=\"1\" class=\"dataframe\">\n",
       "  <thead>\n",
       "    <tr style=\"text-align: right;\">\n",
       "      <th></th>\n",
       "      <th>ds</th>\n",
       "      <th>yhat</th>\n",
       "      <th>yhat_lower</th>\n",
       "      <th>yhat_upper</th>\n",
       "    </tr>\n",
       "  </thead>\n",
       "  <tbody>\n",
       "    <tr>\n",
       "      <th>90</th>\n",
       "      <td>2020-05-20</td>\n",
       "      <td>4.552110</td>\n",
       "      <td>4.391239</td>\n",
       "      <td>4.710272</td>\n",
       "    </tr>\n",
       "    <tr>\n",
       "      <th>91</th>\n",
       "      <td>2020-05-21</td>\n",
       "      <td>4.553464</td>\n",
       "      <td>4.378622</td>\n",
       "      <td>4.728008</td>\n",
       "    </tr>\n",
       "    <tr>\n",
       "      <th>92</th>\n",
       "      <td>2020-05-22</td>\n",
       "      <td>4.553350</td>\n",
       "      <td>4.393755</td>\n",
       "      <td>4.710788</td>\n",
       "    </tr>\n",
       "    <tr>\n",
       "      <th>93</th>\n",
       "      <td>2020-05-23</td>\n",
       "      <td>4.234098</td>\n",
       "      <td>4.066943</td>\n",
       "      <td>4.408275</td>\n",
       "    </tr>\n",
       "    <tr>\n",
       "      <th>94</th>\n",
       "      <td>2020-05-24</td>\n",
       "      <td>4.234499</td>\n",
       "      <td>4.080909</td>\n",
       "      <td>4.399479</td>\n",
       "    </tr>\n",
       "    <tr>\n",
       "      <th>95</th>\n",
       "      <td>2020-05-25</td>\n",
       "      <td>4.553663</td>\n",
       "      <td>4.377582</td>\n",
       "      <td>4.715486</td>\n",
       "    </tr>\n",
       "    <tr>\n",
       "      <th>96</th>\n",
       "      <td>2020-05-26</td>\n",
       "      <td>4.554717</td>\n",
       "      <td>4.384134</td>\n",
       "      <td>4.724324</td>\n",
       "    </tr>\n",
       "    <tr>\n",
       "      <th>97</th>\n",
       "      <td>2020-05-27</td>\n",
       "      <td>4.554704</td>\n",
       "      <td>4.389717</td>\n",
       "      <td>4.702352</td>\n",
       "    </tr>\n",
       "    <tr>\n",
       "      <th>98</th>\n",
       "      <td>2020-05-28</td>\n",
       "      <td>4.556743</td>\n",
       "      <td>4.391418</td>\n",
       "      <td>4.725961</td>\n",
       "    </tr>\n",
       "    <tr>\n",
       "      <th>99</th>\n",
       "      <td>2020-05-29</td>\n",
       "      <td>4.557195</td>\n",
       "      <td>4.379740</td>\n",
       "      <td>4.725679</td>\n",
       "    </tr>\n",
       "  </tbody>\n",
       "</table>\n",
       "</div>"
      ],
      "text/plain": [
       "           ds      yhat  yhat_lower  yhat_upper\n",
       "90 2020-05-20  4.552110    4.391239    4.710272\n",
       "91 2020-05-21  4.553464    4.378622    4.728008\n",
       "92 2020-05-22  4.553350    4.393755    4.710788\n",
       "93 2020-05-23  4.234098    4.066943    4.408275\n",
       "94 2020-05-24  4.234499    4.080909    4.399479\n",
       "95 2020-05-25  4.553663    4.377582    4.715486\n",
       "96 2020-05-26  4.554717    4.384134    4.724324\n",
       "97 2020-05-27  4.554704    4.389717    4.702352\n",
       "98 2020-05-28  4.556743    4.391418    4.725961\n",
       "99 2020-05-29  4.557195    4.379740    4.725679"
      ]
     },
     "execution_count": 68,
     "metadata": {},
     "output_type": "execute_result"
    }
   ],
   "source": [
    "\n",
    "future = model.make_future_dataframe(periods=100, freq='D', include_history=False)\n",
    "forecast = model.predict(future)\n",
    "# print(forecast)\n",
    "forecast[['ds', 'yhat', 'yhat_lower', 'yhat_upper']].tail(10)\n"
   ]
  },
  {
   "cell_type": "code",
   "execution_count": 69,
   "id": "655aa523",
   "metadata": {},
   "outputs": [
    {
     "name": "stdout",
     "output_type": "stream",
     "text": [
      "Last training date: 2020-02-19 00:00:00\n",
      "First forecast date: 2020-02-20 00:00:00\n",
      "Last forecast date: 2020-05-29 00:00:00\n"
     ]
    }
   ],
   "source": [
    "print(\"Last training date:\", train['ds'].max())\n",
    "print(\"First forecast date:\", future['ds'].min())\n",
    "print(\"Last forecast date:\", future['ds'].max())\n"
   ]
  },
  {
   "cell_type": "code",
   "execution_count": 70,
   "id": "24df26ed",
   "metadata": {},
   "outputs": [
    {
     "name": "stdout",
     "output_type": "stream",
     "text": [
      "                   y      yhat\n",
      "ds                            \n",
      "2020-03-26  4.313748  4.549304\n",
      "2020-03-27  4.275415  4.548051\n",
      "2020-03-30  4.299596  4.543951\n",
      "2020-03-31  4.285240  4.543340\n",
      "2020-04-01  4.247352  4.541645\n"
     ]
    }
   ],
   "source": [
    "pred = forecast[['ds', 'yhat']].set_index('ds')\n",
    "actual = test.set_index('ds')\n",
    "comparison = actual.join(pred, how='inner')\n",
    "print(comparison.tail())\n"
   ]
  },
  {
   "cell_type": "code",
   "execution_count": 71,
   "id": "1176898e",
   "metadata": {},
   "outputs": [
    {
     "data": {
      "image/png": "[encoded data removed]",
      "text/plain": [
       "<Figure size 1000x600 with 1 Axes>"
      ]
     },
     "metadata": {},
     "output_type": "display_data"
    }
   ],
   "source": [
    "model.plot(forecast)\n",
    "plt.title(\"Prophet Forecast (30 Days Ahead)\")\n",
    "plt.show()\n"
   ]
  },
  {
   "cell_type": "code",
   "execution_count": 72,
   "id": "4032978e",
   "metadata": {},
   "outputs": [
    {
     "data": {
      "image/png": "[encoded data removed]",
      "text/plain": [
       "<Figure size 1000x600 with 1 Axes>"
      ]
     },
     "execution_count": 72,
     "metadata": {},
     "output_type": "execute_result"
    },
    {
     "data": {
      "image/png": "[encoded data removed]",
      "text/plain": [
       "<Figure size 1000x600 with 1 Axes>"
      ]
     },
     "metadata": {},
     "output_type": "display_data"
    }
   ],
   "source": [
    "model.plot(forecast)"
   ]
  },
  {
   "cell_type": "code",
   "execution_count": 73,
   "id": "888819fa",
   "metadata": {},
   "outputs": [
    {
     "data": {
      "text/plain": [
       "['stock_prince_prediction_model.pkl']"
      ]
     },
     "execution_count": 73,
     "metadata": {},
     "output_type": "execute_result"
    }
   ],
   "source": [
    "import joblib\n",
    "joblib.dump(model, \"stock_prince_prediction_model.pkl\")\n"
   ]
  },
  {
   "cell_type": "code",
   "execution_count": 74,
   "id": "62dfb918",
   "metadata": {},
   "outputs": [],
   "source": [
    "# Load your trained model\n",
    "model = joblib.load(\"stock_prince_prediction_model.pkl\")"
   ]
  },
  {
   "cell_type": "code",
   "execution_count": 93,
   "id": "199f22e5",
   "metadata": {},
   "outputs": [
    {
     "name": "stdout",
     "output_type": "stream",
     "text": [
      "Prediction Results:\n",
      "          ds         y      yhat  yhat_lower  yhat_upper     error\n",
      "0 2020-02-20  4.460144  4.524726    4.360962    4.685175 -0.064581\n",
      "1 2020-02-21  4.460144  4.525286    4.372318    4.693187 -0.065141\n",
      "2 2020-02-24  4.460144  4.527190    4.351202    4.679115 -0.067046\n",
      "3 2020-02-25  4.460144  4.528678    4.374989    4.688202 -0.068533\n"
     ]
    }
   ],
   "source": [
    "user_data = {\n",
    "    'Date': ['2020-02-20', '2020-02-21', '2020-02-24', '2020-02-25'],\n",
    "    'Close': [85.50, 85.50, 85.50, 85.50]  # Today current price\n",
    "    \n",
    "}\n",
    "\n",
    "\n",
    "\n",
    "# Convert dictionary to DataFrame\n",
    "unseen_df = pd.DataFrame(user_data)\n",
    "unseen_df['Date'] = pd.to_datetime(unseen_df['Date'])\n",
    "\n",
    "# ✅ CRITICAL FIX: Apply the SAME log transformation\n",
    "unseen_df['Close_log'] = np.log1p(unseen_df['Close'])  # Same as training\n",
    "unseen_prophet = unseen_df[['Date', 'Close_log']].rename(columns={'Date': 'ds', 'Close_log': 'y'})\n",
    "\n",
    "\n",
    "# Create future dataframe with SPECIFIC DATES from user input\n",
    "future_dates = pd.DataFrame({'ds': unseen_prophet['ds']})\n",
    "\n",
    "# Make predictions for those specific dates\n",
    "forecast_unseen = model.predict(future_dates)\n",
    "\n",
    "# Compare with actual values\n",
    "comparison = unseen_prophet.merge(forecast_unseen[['ds', 'yhat', 'yhat_lower', 'yhat_upper']], on='ds')\n",
    "comparison['error'] = comparison['y'] - comparison['yhat']\n",
    "\n",
    "print(\"Prediction Results:\")\n",
    "print(comparison)"
   ]
  },
  {
   "cell_type": "code",
   "execution_count": 95,
   "id": "6bf0c3ee",
   "metadata": {},
   "outputs": [
    {
     "name": "stdout",
     "output_type": "stream",
     "text": [
      "Final Prediction Results (Original Price Scale):\n",
      "          ds  y_original  yhat_original  error_original\n",
      "0 2020-02-20        85.5      91.270628       -5.770628\n",
      "1 2020-02-21        85.5      91.322318       -5.822318\n",
      "2 2020-02-24        85.5      91.498273       -5.998273\n",
      "3 2020-02-25        85.5      91.635992       -6.135992\n"
     ]
    }
   ],
   "source": [
    "# Convert everything back to original price scale for easy interpretation\n",
    "comparison['y_original'] = np.expm1(comparison['y'])  # Convert y back to prices\n",
    "comparison['yhat_original'] = np.expm1(comparison['yhat'])  # Convert predictions back\n",
    "comparison['error_original'] = comparison['y_original'] - comparison['yhat_original']\n",
    "\n",
    "print(\"Final Prediction Results (Original Price Scale):\")\n",
    "print(comparison[['ds', 'y_original', 'yhat_original', 'error_original']])"
   ]
  },
  {
   "cell_type": "code",
   "execution_count": null,
   "id": "51d29fc5",
   "metadata": {},
   "outputs": [],
   "source": [
    "# User will input date range (using calender what ever i used from web interface)\n",
    "# then user input today close price (define a range) 7 to 113"
   ]
  }
 ],
 "metadata": {
  "kernelspec": {
   "display_name": "Python 3",
   "language": "python",
   "name": "python3"
  },
  "language_info": {
   "codemirror_mode": {
    "name": "ipython",
    "version": 3
   },
   "file_extension": ".py",
   "mimetype": "text/x-python",
   "name": "python",
   "nbconvert_exporter": "python",
   "pygments_lexer": "ipython3",
   "version": "3.13.6"
  }
 },
 "nbformat": 4,
 "nbformat_minor": 5
}
