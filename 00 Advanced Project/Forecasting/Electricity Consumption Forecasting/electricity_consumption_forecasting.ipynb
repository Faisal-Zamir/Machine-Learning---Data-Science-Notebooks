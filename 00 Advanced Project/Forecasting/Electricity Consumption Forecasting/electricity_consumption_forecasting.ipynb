{
 "cells": [
  {
   "cell_type": "code",
   "execution_count": 3,
   "id": "d8029bae",
   "metadata": {},
   "outputs": [],
   "source": [
    "import pandas as pd\n",
    "\n",
    "# chunksize = 100000  # read 100k rows at a time\n",
    "# input_file = \"household_power_consumption.txt\"\n",
    "# output_file = \"electricity_data.csv\"\n",
    "\n",
    "# # Read the first chunk and write headers\n",
    "# first_chunk = True\n",
    "\n",
    "# for chunk in pd.read_csv(input_file, sep=\";\", chunksize=chunksize, low_memory=False):\n",
    "#     # Append each chunk to CSV file\n",
    "#     chunk.to_csv(output_file, index=False, mode='a', header=first_chunk)\n",
    "#     first_chunk = False\n",
    "\n",
    "# print(\"✅ Conversion completed successfully in chunks!\")\n"
   ]
  },
  {
   "cell_type": "code",
   "execution_count": 4,
   "id": "d73f3518",
   "metadata": {},
   "outputs": [
    {
     "name": "stderr",
     "output_type": "stream",
     "text": [
      "C:\\Users\\Faisal Zamir\\AppData\\Local\\Temp\\ipykernel_16184\\1926985769.py:1: DtypeWarning: Columns (2,3,4,5,6,7) have mixed types. Specify dtype option on import or set low_memory=False.\n",
      "  df = pd.read_csv(\"electricity_data.csv\")\n"
     ]
    }
   ],
   "source": [
    "df = pd.read_csv(\"electricity_data.csv\")\n"
   ]
  },
  {
   "cell_type": "code",
   "execution_count": 5,
   "id": "648e3305",
   "metadata": {},
   "outputs": [
    {
     "name": "stdout",
     "output_type": "stream",
     "text": [
      "<class 'pandas.core.frame.DataFrame'>\n",
      "RangeIndex: 2075259 entries, 0 to 2075258\n",
      "Data columns (total 9 columns):\n",
      " #   Column                 Dtype  \n",
      "---  ------                 -----  \n",
      " 0   Date                   object \n",
      " 1   Time                   object \n",
      " 2   Global_active_power    object \n",
      " 3   Global_reactive_power  object \n",
      " 4   Voltage                object \n",
      " 5   Global_intensity       object \n",
      " 6   Sub_metering_1         object \n",
      " 7   Sub_metering_2         object \n",
      " 8   Sub_metering_3         float64\n",
      "dtypes: float64(1), object(8)\n",
      "memory usage: 142.5+ MB\n"
     ]
    }
   ],
   "source": [
    "df.shape\n",
    "df.isnull().sum()\n",
    "df.info()\n"
   ]
  },
  {
   "cell_type": "code",
   "execution_count": 6,
   "id": "e390961c",
   "metadata": {},
   "outputs": [
    {
     "data": {
      "text/html": [
       "<div>\n",
       "<style scoped>\n",
       "    .dataframe tbody tr th:only-of-type {\n",
       "        vertical-align: middle;\n",
       "    }\n",
       "\n",
       "    .dataframe tbody tr th {\n",
       "        vertical-align: top;\n",
       "    }\n",
       "\n",
       "    .dataframe thead th {\n",
       "        text-align: right;\n",
       "    }\n",
       "</style>\n",
       "<table border=\"1\" class=\"dataframe\">\n",
       "  <thead>\n",
       "    <tr style=\"text-align: right;\">\n",
       "      <th></th>\n",
       "      <th>Date</th>\n",
       "      <th>Time</th>\n",
       "      <th>Global_active_power</th>\n",
       "      <th>Global_reactive_power</th>\n",
       "      <th>Voltage</th>\n",
       "      <th>Global_intensity</th>\n",
       "      <th>Sub_metering_1</th>\n",
       "      <th>Sub_metering_2</th>\n",
       "      <th>Sub_metering_3</th>\n",
       "    </tr>\n",
       "  </thead>\n",
       "  <tbody>\n",
       "    <tr>\n",
       "      <th>0</th>\n",
       "      <td>16/12/2006</td>\n",
       "      <td>17:24:00</td>\n",
       "      <td>4.216</td>\n",
       "      <td>0.418</td>\n",
       "      <td>234.840</td>\n",
       "      <td>18.400</td>\n",
       "      <td>0.000</td>\n",
       "      <td>1.000</td>\n",
       "      <td>17.0</td>\n",
       "    </tr>\n",
       "    <tr>\n",
       "      <th>1</th>\n",
       "      <td>16/12/2006</td>\n",
       "      <td>17:25:00</td>\n",
       "      <td>5.360</td>\n",
       "      <td>0.436</td>\n",
       "      <td>233.630</td>\n",
       "      <td>23.000</td>\n",
       "      <td>0.000</td>\n",
       "      <td>1.000</td>\n",
       "      <td>16.0</td>\n",
       "    </tr>\n",
       "    <tr>\n",
       "      <th>2</th>\n",
       "      <td>16/12/2006</td>\n",
       "      <td>17:26:00</td>\n",
       "      <td>5.374</td>\n",
       "      <td>0.498</td>\n",
       "      <td>233.290</td>\n",
       "      <td>23.000</td>\n",
       "      <td>0.000</td>\n",
       "      <td>2.000</td>\n",
       "      <td>17.0</td>\n",
       "    </tr>\n",
       "    <tr>\n",
       "      <th>3</th>\n",
       "      <td>16/12/2006</td>\n",
       "      <td>17:27:00</td>\n",
       "      <td>5.388</td>\n",
       "      <td>0.502</td>\n",
       "      <td>233.740</td>\n",
       "      <td>23.000</td>\n",
       "      <td>0.000</td>\n",
       "      <td>1.000</td>\n",
       "      <td>17.0</td>\n",
       "    </tr>\n",
       "    <tr>\n",
       "      <th>4</th>\n",
       "      <td>16/12/2006</td>\n",
       "      <td>17:28:00</td>\n",
       "      <td>3.666</td>\n",
       "      <td>0.528</td>\n",
       "      <td>235.680</td>\n",
       "      <td>15.800</td>\n",
       "      <td>0.000</td>\n",
       "      <td>1.000</td>\n",
       "      <td>17.0</td>\n",
       "    </tr>\n",
       "  </tbody>\n",
       "</table>\n",
       "</div>"
      ],
      "text/plain": [
       "         Date      Time Global_active_power Global_reactive_power  Voltage  \\\n",
       "0  16/12/2006  17:24:00               4.216                 0.418  234.840   \n",
       "1  16/12/2006  17:25:00               5.360                 0.436  233.630   \n",
       "2  16/12/2006  17:26:00               5.374                 0.498  233.290   \n",
       "3  16/12/2006  17:27:00               5.388                 0.502  233.740   \n",
       "4  16/12/2006  17:28:00               3.666                 0.528  235.680   \n",
       "\n",
       "  Global_intensity Sub_metering_1 Sub_metering_2  Sub_metering_3  \n",
       "0           18.400          0.000          1.000            17.0  \n",
       "1           23.000          0.000          1.000            16.0  \n",
       "2           23.000          0.000          2.000            17.0  \n",
       "3           23.000          0.000          1.000            17.0  \n",
       "4           15.800          0.000          1.000            17.0  "
      ]
     },
     "execution_count": 6,
     "metadata": {},
     "output_type": "execute_result"
    }
   ],
   "source": [
    "df.head()"
   ]
  },
  {
   "cell_type": "code",
   "execution_count": 7,
   "id": "1a980a5e",
   "metadata": {},
   "outputs": [
    {
     "data": {
      "text/plain": [
       "Date                         0\n",
       "Time                         0\n",
       "Global_active_power          0\n",
       "Global_reactive_power        0\n",
       "Voltage                      0\n",
       "Global_intensity             0\n",
       "Sub_metering_1               0\n",
       "Sub_metering_2               0\n",
       "Sub_metering_3           25979\n",
       "dtype: int64"
      ]
     },
     "execution_count": 7,
     "metadata": {},
     "output_type": "execute_result"
    }
   ],
   "source": [
    "import numpy as np\n",
    "df.isna().sum()"
   ]
  },
  {
   "cell_type": "code",
   "execution_count": 8,
   "id": "b2b4c81a",
   "metadata": {},
   "outputs": [],
   "source": [
    "# Combine Date and Time into a single datetime column\n",
    "df['Datetime'] = pd.to_datetime(df['Date'] + ' ' + df['Time'], format='%d/%m/%Y %H:%M:%S', errors='coerce')"
   ]
  },
  {
   "cell_type": "code",
   "execution_count": 9,
   "id": "5d1eb228",
   "metadata": {},
   "outputs": [],
   "source": [
    "# Convert numeric columns to float\n",
    "cols_to_convert = [\n",
    "    'Global_active_power', \n",
    "    'Global_reactive_power', \n",
    "    'Voltage', \n",
    "    'Global_intensity', \n",
    "    'Sub_metering_1', \n",
    "    'Sub_metering_2', \n",
    "    'Sub_metering_3'\n",
    "]\n",
    "\n",
    "df[cols_to_convert] = df[cols_to_convert].apply(pd.to_numeric, errors='coerce')\n"
   ]
  },
  {
   "cell_type": "code",
   "execution_count": 10,
   "id": "dd374ac0",
   "metadata": {},
   "outputs": [
    {
     "name": "stdout",
     "output_type": "stream",
     "text": [
      "<class 'pandas.core.frame.DataFrame'>\n",
      "RangeIndex: 2075259 entries, 0 to 2075258\n",
      "Data columns (total 10 columns):\n",
      " #   Column                 Dtype         \n",
      "---  ------                 -----         \n",
      " 0   Date                   object        \n",
      " 1   Time                   object        \n",
      " 2   Global_active_power    float64       \n",
      " 3   Global_reactive_power  float64       \n",
      " 4   Voltage                float64       \n",
      " 5   Global_intensity       float64       \n",
      " 6   Sub_metering_1         float64       \n",
      " 7   Sub_metering_2         float64       \n",
      " 8   Sub_metering_3         float64       \n",
      " 9   Datetime               datetime64[ns]\n",
      "dtypes: datetime64[ns](1), float64(7), object(2)\n",
      "memory usage: 158.3+ MB\n"
     ]
    }
   ],
   "source": [
    "df.info()\n"
   ]
  },
  {
   "cell_type": "code",
   "execution_count": 11,
   "id": "82ca836f",
   "metadata": {},
   "outputs": [
    {
     "data": {
      "text/html": [
       "<div>\n",
       "<style scoped>\n",
       "    .dataframe tbody tr th:only-of-type {\n",
       "        vertical-align: middle;\n",
       "    }\n",
       "\n",
       "    .dataframe tbody tr th {\n",
       "        vertical-align: top;\n",
       "    }\n",
       "\n",
       "    .dataframe thead th {\n",
       "        text-align: right;\n",
       "    }\n",
       "</style>\n",
       "<table border=\"1\" class=\"dataframe\">\n",
       "  <thead>\n",
       "    <tr style=\"text-align: right;\">\n",
       "      <th></th>\n",
       "      <th>Global_active_power</th>\n",
       "      <th>Global_reactive_power</th>\n",
       "      <th>Voltage</th>\n",
       "      <th>Global_intensity</th>\n",
       "      <th>Sub_metering_1</th>\n",
       "      <th>Sub_metering_2</th>\n",
       "      <th>Sub_metering_3</th>\n",
       "      <th>Datetime</th>\n",
       "    </tr>\n",
       "  </thead>\n",
       "  <tbody>\n",
       "    <tr>\n",
       "      <th>count</th>\n",
       "      <td>2.049280e+06</td>\n",
       "      <td>2.049280e+06</td>\n",
       "      <td>2.049280e+06</td>\n",
       "      <td>2.049280e+06</td>\n",
       "      <td>2.049280e+06</td>\n",
       "      <td>2.049280e+06</td>\n",
       "      <td>2.049280e+06</td>\n",
       "      <td>2075259</td>\n",
       "    </tr>\n",
       "    <tr>\n",
       "      <th>mean</th>\n",
       "      <td>1.091615e+00</td>\n",
       "      <td>1.237145e-01</td>\n",
       "      <td>2.408399e+02</td>\n",
       "      <td>4.627759e+00</td>\n",
       "      <td>1.121923e+00</td>\n",
       "      <td>1.298520e+00</td>\n",
       "      <td>6.458447e+00</td>\n",
       "      <td>2008-12-06 07:12:59.999994112</td>\n",
       "    </tr>\n",
       "    <tr>\n",
       "      <th>min</th>\n",
       "      <td>7.600000e-02</td>\n",
       "      <td>0.000000e+00</td>\n",
       "      <td>2.232000e+02</td>\n",
       "      <td>2.000000e-01</td>\n",
       "      <td>0.000000e+00</td>\n",
       "      <td>0.000000e+00</td>\n",
       "      <td>0.000000e+00</td>\n",
       "      <td>2006-12-16 17:24:00</td>\n",
       "    </tr>\n",
       "    <tr>\n",
       "      <th>25%</th>\n",
       "      <td>3.080000e-01</td>\n",
       "      <td>4.800000e-02</td>\n",
       "      <td>2.389900e+02</td>\n",
       "      <td>1.400000e+00</td>\n",
       "      <td>0.000000e+00</td>\n",
       "      <td>0.000000e+00</td>\n",
       "      <td>0.000000e+00</td>\n",
       "      <td>2007-12-12 00:18:30</td>\n",
       "    </tr>\n",
       "    <tr>\n",
       "      <th>50%</th>\n",
       "      <td>6.020000e-01</td>\n",
       "      <td>1.000000e-01</td>\n",
       "      <td>2.410100e+02</td>\n",
       "      <td>2.600000e+00</td>\n",
       "      <td>0.000000e+00</td>\n",
       "      <td>0.000000e+00</td>\n",
       "      <td>1.000000e+00</td>\n",
       "      <td>2008-12-06 07:13:00</td>\n",
       "    </tr>\n",
       "    <tr>\n",
       "      <th>75%</th>\n",
       "      <td>1.528000e+00</td>\n",
       "      <td>1.940000e-01</td>\n",
       "      <td>2.428900e+02</td>\n",
       "      <td>6.400000e+00</td>\n",
       "      <td>0.000000e+00</td>\n",
       "      <td>1.000000e+00</td>\n",
       "      <td>1.700000e+01</td>\n",
       "      <td>2009-12-01 14:07:30</td>\n",
       "    </tr>\n",
       "    <tr>\n",
       "      <th>max</th>\n",
       "      <td>1.112200e+01</td>\n",
       "      <td>1.390000e+00</td>\n",
       "      <td>2.541500e+02</td>\n",
       "      <td>4.840000e+01</td>\n",
       "      <td>8.800000e+01</td>\n",
       "      <td>8.000000e+01</td>\n",
       "      <td>3.100000e+01</td>\n",
       "      <td>2010-11-26 21:02:00</td>\n",
       "    </tr>\n",
       "    <tr>\n",
       "      <th>std</th>\n",
       "      <td>1.057294e+00</td>\n",
       "      <td>1.127220e-01</td>\n",
       "      <td>3.239987e+00</td>\n",
       "      <td>4.444396e+00</td>\n",
       "      <td>6.153031e+00</td>\n",
       "      <td>5.822026e+00</td>\n",
       "      <td>8.437154e+00</td>\n",
       "      <td>NaN</td>\n",
       "    </tr>\n",
       "  </tbody>\n",
       "</table>\n",
       "</div>"
      ],
      "text/plain": [
       "       Global_active_power  Global_reactive_power       Voltage  \\\n",
       "count         2.049280e+06           2.049280e+06  2.049280e+06   \n",
       "mean          1.091615e+00           1.237145e-01  2.408399e+02   \n",
       "min           7.600000e-02           0.000000e+00  2.232000e+02   \n",
       "25%           3.080000e-01           4.800000e-02  2.389900e+02   \n",
       "50%           6.020000e-01           1.000000e-01  2.410100e+02   \n",
       "75%           1.528000e+00           1.940000e-01  2.428900e+02   \n",
       "max           1.112200e+01           1.390000e+00  2.541500e+02   \n",
       "std           1.057294e+00           1.127220e-01  3.239987e+00   \n",
       "\n",
       "       Global_intensity  Sub_metering_1  Sub_metering_2  Sub_metering_3  \\\n",
       "count      2.049280e+06    2.049280e+06    2.049280e+06    2.049280e+06   \n",
       "mean       4.627759e+00    1.121923e+00    1.298520e+00    6.458447e+00   \n",
       "min        2.000000e-01    0.000000e+00    0.000000e+00    0.000000e+00   \n",
       "25%        1.400000e+00    0.000000e+00    0.000000e+00    0.000000e+00   \n",
       "50%        2.600000e+00    0.000000e+00    0.000000e+00    1.000000e+00   \n",
       "75%        6.400000e+00    0.000000e+00    1.000000e+00    1.700000e+01   \n",
       "max        4.840000e+01    8.800000e+01    8.000000e+01    3.100000e+01   \n",
       "std        4.444396e+00    6.153031e+00    5.822026e+00    8.437154e+00   \n",
       "\n",
       "                            Datetime  \n",
       "count                        2075259  \n",
       "mean   2008-12-06 07:12:59.999994112  \n",
       "min              2006-12-16 17:24:00  \n",
       "25%              2007-12-12 00:18:30  \n",
       "50%              2008-12-06 07:13:00  \n",
       "75%              2009-12-01 14:07:30  \n",
       "max              2010-11-26 21:02:00  \n",
       "std                              NaN  "
      ]
     },
     "execution_count": 11,
     "metadata": {},
     "output_type": "execute_result"
    }
   ],
   "source": [
    "df.describe()"
   ]
  },
  {
   "cell_type": "code",
   "execution_count": 12,
   "id": "6bdf8a59",
   "metadata": {},
   "outputs": [
    {
     "data": {
      "text/html": [
       "<div>\n",
       "<style scoped>\n",
       "    .dataframe tbody tr th:only-of-type {\n",
       "        vertical-align: middle;\n",
       "    }\n",
       "\n",
       "    .dataframe tbody tr th {\n",
       "        vertical-align: top;\n",
       "    }\n",
       "\n",
       "    .dataframe thead th {\n",
       "        text-align: right;\n",
       "    }\n",
       "</style>\n",
       "<table border=\"1\" class=\"dataframe\">\n",
       "  <thead>\n",
       "    <tr style=\"text-align: right;\">\n",
       "      <th></th>\n",
       "      <th>Global_active_power</th>\n",
       "      <th>Global_reactive_power</th>\n",
       "      <th>Voltage</th>\n",
       "      <th>Global_intensity</th>\n",
       "      <th>Sub_metering_1</th>\n",
       "      <th>Sub_metering_2</th>\n",
       "      <th>Sub_metering_3</th>\n",
       "    </tr>\n",
       "  </thead>\n",
       "  <tbody>\n",
       "    <tr>\n",
       "      <th>Global_active_power</th>\n",
       "      <td>1.000000</td>\n",
       "      <td>0.247017</td>\n",
       "      <td>-0.399762</td>\n",
       "      <td>0.998889</td>\n",
       "      <td>0.484401</td>\n",
       "      <td>0.434569</td>\n",
       "      <td>0.638555</td>\n",
       "    </tr>\n",
       "    <tr>\n",
       "      <th>Global_reactive_power</th>\n",
       "      <td>0.247017</td>\n",
       "      <td>1.000000</td>\n",
       "      <td>-0.112246</td>\n",
       "      <td>0.266120</td>\n",
       "      <td>0.123111</td>\n",
       "      <td>0.139231</td>\n",
       "      <td>0.089617</td>\n",
       "    </tr>\n",
       "    <tr>\n",
       "      <th>Voltage</th>\n",
       "      <td>-0.399762</td>\n",
       "      <td>-0.112246</td>\n",
       "      <td>1.000000</td>\n",
       "      <td>-0.411363</td>\n",
       "      <td>-0.195976</td>\n",
       "      <td>-0.167405</td>\n",
       "      <td>-0.268172</td>\n",
       "    </tr>\n",
       "    <tr>\n",
       "      <th>Global_intensity</th>\n",
       "      <td>0.998889</td>\n",
       "      <td>0.266120</td>\n",
       "      <td>-0.411363</td>\n",
       "      <td>1.000000</td>\n",
       "      <td>0.489298</td>\n",
       "      <td>0.440347</td>\n",
       "      <td>0.626543</td>\n",
       "    </tr>\n",
       "    <tr>\n",
       "      <th>Sub_metering_1</th>\n",
       "      <td>0.484401</td>\n",
       "      <td>0.123111</td>\n",
       "      <td>-0.195976</td>\n",
       "      <td>0.489298</td>\n",
       "      <td>1.000000</td>\n",
       "      <td>0.054721</td>\n",
       "      <td>0.102571</td>\n",
       "    </tr>\n",
       "    <tr>\n",
       "      <th>Sub_metering_2</th>\n",
       "      <td>0.434569</td>\n",
       "      <td>0.139231</td>\n",
       "      <td>-0.167405</td>\n",
       "      <td>0.440347</td>\n",
       "      <td>0.054721</td>\n",
       "      <td>1.000000</td>\n",
       "      <td>0.080872</td>\n",
       "    </tr>\n",
       "    <tr>\n",
       "      <th>Sub_metering_3</th>\n",
       "      <td>0.638555</td>\n",
       "      <td>0.089617</td>\n",
       "      <td>-0.268172</td>\n",
       "      <td>0.626543</td>\n",
       "      <td>0.102571</td>\n",
       "      <td>0.080872</td>\n",
       "      <td>1.000000</td>\n",
       "    </tr>\n",
       "  </tbody>\n",
       "</table>\n",
       "</div>"
      ],
      "text/plain": [
       "                       Global_active_power  Global_reactive_power   Voltage  \\\n",
       "Global_active_power               1.000000               0.247017 -0.399762   \n",
       "Global_reactive_power             0.247017               1.000000 -0.112246   \n",
       "Voltage                          -0.399762              -0.112246  1.000000   \n",
       "Global_intensity                  0.998889               0.266120 -0.411363   \n",
       "Sub_metering_1                    0.484401               0.123111 -0.195976   \n",
       "Sub_metering_2                    0.434569               0.139231 -0.167405   \n",
       "Sub_metering_3                    0.638555               0.089617 -0.268172   \n",
       "\n",
       "                       Global_intensity  Sub_metering_1  Sub_metering_2  \\\n",
       "Global_active_power            0.998889        0.484401        0.434569   \n",
       "Global_reactive_power          0.266120        0.123111        0.139231   \n",
       "Voltage                       -0.411363       -0.195976       -0.167405   \n",
       "Global_intensity               1.000000        0.489298        0.440347   \n",
       "Sub_metering_1                 0.489298        1.000000        0.054721   \n",
       "Sub_metering_2                 0.440347        0.054721        1.000000   \n",
       "Sub_metering_3                 0.626543        0.102571        0.080872   \n",
       "\n",
       "                       Sub_metering_3  \n",
       "Global_active_power          0.638555  \n",
       "Global_reactive_power        0.089617  \n",
       "Voltage                     -0.268172  \n",
       "Global_intensity             0.626543  \n",
       "Sub_metering_1               0.102571  \n",
       "Sub_metering_2               0.080872  \n",
       "Sub_metering_3               1.000000  "
      ]
     },
     "execution_count": 12,
     "metadata": {},
     "output_type": "execute_result"
    }
   ],
   "source": [
    "# +1.0 Positive Correlation (One increase other increase)\n",
    "# 0  No correlation betwen variables\n",
    "# -1.0 Perfect Negative Correlation  (One increase other decrease)\n",
    "\n",
    "df[['Global_active_power', 'Global_reactive_power', 'Voltage',\n",
    "    'Global_intensity', 'Sub_metering_1', 'Sub_metering_2', 'Sub_metering_3']].corr()\n"
   ]
  },
  {
   "cell_type": "code",
   "execution_count": 13,
   "id": "2c3a4b0c",
   "metadata": {},
   "outputs": [
    {
     "data": {
      "text/plain": [
       "<Axes: >"
      ]
     },
     "execution_count": 13,
     "metadata": {},
     "output_type": "execute_result"
    },
    {
     "data": {
      "image/png": "[encoded data removed]",
      "text/plain": [
       "<Figure size 640x480 with 1 Axes>"
      ]
     },
     "metadata": {},
     "output_type": "display_data"
    }
   ],
   "source": [
    "df['Global_active_power'].plot()"
   ]
  },
  {
   "cell_type": "code",
   "execution_count": 14,
   "id": "04dc17d5",
   "metadata": {},
   "outputs": [
    {
     "data": {
      "text/plain": [
       "<Axes: >"
      ]
     },
     "execution_count": 14,
     "metadata": {},
     "output_type": "execute_result"
    },
    {
     "data": {
      "image/png": "[encoded data removed]",
      "text/plain": [
       "<Figure size 640x480 with 1 Axes>"
      ]
     },
     "metadata": {},
     "output_type": "display_data"
    }
   ],
   "source": [
    "df[['Sub_metering_1','Sub_metering_2','Sub_metering_3']].plot()"
   ]
  },
  {
   "cell_type": "code",
   "execution_count": 15,
   "id": "5e9bbf4b",
   "metadata": {},
   "outputs": [
    {
     "name": "stdout",
     "output_type": "stream",
     "text": [
      "Global_active_power: 94907 outliers found\n",
      "Global_reactive_power: 40420 outliers found\n",
      "Voltage: 51067 outliers found\n",
      "Global_intensity: 100961 outliers found\n",
      "Sub_metering_1: 169105 outliers found\n",
      "Sub_metering_2: 77151 outliers found\n",
      "Sub_metering_3: 0 outliers found\n"
     ]
    }
   ],
   "source": [
    "def detect_outliers_iqr(df):\n",
    "    numeric_cols = df.select_dtypes(include=['int64', 'float64']).columns\n",
    "    \n",
    "    for col in numeric_cols:\n",
    "        Q1 = df[col].quantile(0.25)\n",
    "        Q3 = df[col].quantile(0.75)\n",
    "        IQR = Q3 - Q1\n",
    "\n",
    "        lower = Q1 - 1.5 * IQR\n",
    "        upper = Q3 + 1.5 * IQR\n",
    "\n",
    "        outliers = df[(df[col] < lower) | (df[col] > upper)]\n",
    "        print(f\"{col}: {len(outliers)} outliers found\")\n",
    "\n",
    "# Example usage\n",
    "detect_outliers_iqr(df)\n"
   ]
  },
  {
   "cell_type": "code",
   "execution_count": 16,
   "id": "c24c3e75",
   "metadata": {},
   "outputs": [
    {
     "data": {
      "text/plain": [
       "np.int64(0)"
      ]
     },
     "execution_count": 16,
     "metadata": {},
     "output_type": "execute_result"
    }
   ],
   "source": [
    "# 'Sub_metering_3: skew = 0.72 → Right skew → Suggest **MEDIAN**'\n",
    "df['Sub_metering_3'] = df['Sub_metering_3'].fillna(df['Sub_metering_3'].median())\n",
    "df['Sub_metering_3'].isnull().sum()"
   ]
  },
  {
   "cell_type": "code",
   "execution_count": 17,
   "id": "72578155",
   "metadata": {},
   "outputs": [
    {
     "data": {
      "image/png": "[encoded data removed]",
      "text/plain": [
       "<Figure size 800x500 with 1 Axes>"
      ]
     },
     "metadata": {},
     "output_type": "display_data"
    },
    {
     "data": {
      "image/png": "[encoded data removed]",
      "text/plain": [
       "<Figure size 600x400 with 1 Axes>"
      ]
     },
     "metadata": {},
     "output_type": "display_data"
    }
   ],
   "source": [
    "import matplotlib.pyplot as plt\n",
    "import seaborn as sns\n",
    "\n",
    "# Histogram\n",
    "plt.figure(figsize=(8,5))\n",
    "sns.histplot(df[\"Global_active_power\"], bins=15, kde=True, color=\"skyblue\")\n",
    "plt.title(\"Distribution of Global_active_power\")\n",
    "plt.xlabel(\"Global_active_power)\")\n",
    "plt.ylabel(\"Count\")\n",
    "plt.show()\n",
    "\n",
    "# Boxplot\n",
    "plt.figure(figsize=(6,4))\n",
    "sns.boxplot(x=df[\"Global_active_power\"], color=\"lightcoral\")\n",
    "plt.title(\"Boxplot of Global_active_power\")\n",
    "plt.xlabel(\"Global_active_power\")\n",
    "plt.show()\n"
   ]
  },
  {
   "cell_type": "code",
   "execution_count": 18,
   "id": "ded458b1",
   "metadata": {},
   "outputs": [],
   "source": [
    "# Example: delete one or more columns\n",
    "df.drop(['Date', 'Time'], axis=1, inplace=True)\n"
   ]
  },
  {
   "cell_type": "code",
   "execution_count": 19,
   "id": "e6f012c9",
   "metadata": {},
   "outputs": [],
   "source": [
    "from sklearn.preprocessing import StandardScaler\n",
    "\n",
    "# Select only numeric columns (exclude Datetime)\n",
    "numeric_cols = ['Global_active_power', 'Global_reactive_power', 'Voltage',\n",
    "                'Global_intensity', 'Sub_metering_1', 'Sub_metering_2', 'Sub_metering_3']\n",
    "\n",
    "scaler = StandardScaler()\n",
    "scaled_df = pd.DataFrame(scaler.fit_transform(df[numeric_cols]), columns=numeric_cols)"
   ]
  },
  {
   "cell_type": "code",
   "execution_count": 20,
   "id": "f56f4ca3",
   "metadata": {},
   "outputs": [],
   "source": [
    "df['year'] = df['Datetime'].dt.year\n",
    "df['month'] = df['Datetime'].dt.month\n",
    "df['day'] = df['Datetime'].dt.day\n",
    "df['hour'] = df['Datetime'].dt.hour\n",
    "df['day_of_week'] = df['Datetime'].dt.dayofweek\n"
   ]
  },
  {
   "cell_type": "code",
   "execution_count": 21,
   "id": "0aca47b7",
   "metadata": {},
   "outputs": [],
   "source": [
    "# Create lag features for forecasting (example for last 3 mint)\n",
    "df['lag_1'] = df['Global_active_power'].shift(1) # one mint ago\n",
    "df['lag_2'] = df['Global_active_power'].shift(2) # two mint ago\n",
    "df['lag_3'] = df['Global_active_power'].shift(3) # three mint ago\n"
   ]
  },
  {
   "cell_type": "code",
   "execution_count": 22,
   "id": "cb8c5ef6",
   "metadata": {},
   "outputs": [],
   "source": [
    "df.dropna(inplace=True)"
   ]
  },
  {
   "cell_type": "code",
   "execution_count": 23,
   "id": "96efb8e9",
   "metadata": {},
   "outputs": [],
   "source": [
    "# Drop datetime column because ML models can’t handle datetime directly\n",
    "X = df.drop(['Datetime', 'Global_active_power'], axis=1)\n",
    "y = df['Global_active_power']\n"
   ]
  },
  {
   "cell_type": "code",
   "execution_count": 24,
   "id": "c3ab28a3",
   "metadata": {},
   "outputs": [],
   "source": [
    "from sklearn.model_selection import train_test_split\n",
    "\n",
    "X_train, X_test, y_train, y_test = train_test_split(\n",
    "    X, y, test_size=0.2, shuffle=False  # no shuffle for time series\n",
    ")\n"
   ]
  },
  {
   "cell_type": "code",
   "execution_count": 25,
   "id": "99e9e681",
   "metadata": {},
   "outputs": [],
   "source": [
    "# from sklearn.linear_model import LinearRegression\n",
    "\n",
    "# model = LinearRegression()\n",
    "# model.fit(X_train, y_train)\n",
    "\n",
    "\n",
    "from xgboost import XGBRegressor\n",
    "\n",
    "xgb_model = XGBRegressor(\n",
    "    n_estimators=300,\n",
    "    learning_rate=0.05,\n",
    "    max_depth=6,\n",
    "    subsample=0.8,\n",
    "    colsample_bytree=0.8,\n",
    "    random_state=42\n",
    ")\n",
    "\n",
    "xgb_model.fit(X_train, y_train)\n",
    "y_pred = xgb_model.predict(X_test)\n"
   ]
  },
  {
   "cell_type": "code",
   "execution_count": 26,
   "id": "29f1358f",
   "metadata": {},
   "outputs": [
    {
     "name": "stdout",
     "output_type": "stream",
     "text": [
      "MAE: 0.01507375051350753\n",
      "MSE: 0.0007026984036082646\n",
      "R²: 0.9991247120208301\n"
     ]
    }
   ],
   "source": [
    "from sklearn.metrics import mean_absolute_error, mean_squared_error, r2_score\n",
    "\n",
    "# Predict\n",
    "y_pred = xgb_model.predict(X_test)\n",
    "\n",
    "# Evaluate\n",
    "mae = mean_absolute_error(y_test, y_pred)\n",
    "mse = mean_squared_error(y_test, y_pred)\n",
    "r2 = r2_score(y_test, y_pred)\n",
    "\n",
    "print(\"MAE:\", mae)\n",
    "print(\"MSE:\", mse)\n",
    "print(\"R²:\", r2)\n"
   ]
  },
  {
   "cell_type": "code",
   "execution_count": 27,
   "id": "1a215343",
   "metadata": {},
   "outputs": [
    {
     "data": {
      "image/png": "[encoded data removed]",
      "text/plain": [
       "<Figure size 1000x500 with 1 Axes>"
      ]
     },
     "metadata": {},
     "output_type": "display_data"
    }
   ],
   "source": [
    "import matplotlib.pyplot as plt\n",
    "\n",
    "plt.figure(figsize=(10,5))\n",
    "plt.plot(y_test.values[:200], label='Actual', linewidth=2)\n",
    "plt.plot(y_pred[:200], label='Predicted', linewidth=2)\n",
    "plt.title(\"Actual vs Predicted Values\")\n",
    "plt.xlabel(\"Time Steps\")\n",
    "plt.ylabel(\"Global Active Power\")\n",
    "plt.legend()\n",
    "plt.show()\n"
   ]
  },
  {
   "cell_type": "code",
   "execution_count": 29,
   "id": "15d94094",
   "metadata": {},
   "outputs": [
    {
     "name": "stdout",
     "output_type": "stream",
     "text": [
      "Predicted Global Active Power (next minute): 4.295149803161621\n"
     ]
    }
   ],
   "source": [
    "import pandas as pd\n",
    "\n",
    "# Example latest known values (must match the model’s training feature columns)\n",
    "latest_values = {\n",
    "    'Global_reactive_power': 0.418,\n",
    "    'Voltage': 234.84,\n",
    "    'Global_intensity': 18.4,\n",
    "    'Sub_metering_1': 0.0,\n",
    "    'Sub_metering_2': 1.0,\n",
    "    'Sub_metering_3': 17.0,\n",
    "    'year': 2006,\n",
    "    'month': 12,\n",
    "    'day': 16,\n",
    "    'hour': 17,\n",
    "    'day_of_week': 5,\n",
    "    'lag_1': 4.216,\n",
    "    'lag_2': 5.360,\n",
    "    'lag_3': 5.374\n",
    "}\n",
    "\n",
    "# Create DataFrame in same feature order as training data\n",
    "X_future = pd.DataFrame([latest_values])[X_train.columns]\n",
    "\n",
    "# Predict next-minute Global Active Power\n",
    "next_power = xgb_model.predict(X_future)[0]\n",
    "\n",
    "print(f\"Predicted Global Active Power (next minute): {next_power}\")\n"
   ]
  },
  {
   "cell_type": "code",
   "execution_count": 30,
   "id": "65ec558a",
   "metadata": {},
   "outputs": [
    {
     "name": "stdout",
     "output_type": "stream",
     "text": [
      "             timestamp  Predicted_Power\n",
      "0  2010-11-26 21:03:00         4.303576\n",
      "1  2010-11-26 21:04:00         4.320451\n",
      "2  2010-11-26 21:05:00         4.319909\n",
      "3  2010-11-26 21:06:00         4.319909\n",
      "4  2010-11-26 21:07:00         4.319909\n",
      "5  2010-11-26 21:08:00         4.319909\n",
      "6  2010-11-26 21:09:00         4.319909\n",
      "7  2010-11-26 21:10:00         4.319909\n",
      "8  2010-11-26 21:11:00         4.319909\n",
      "9  2010-11-26 21:12:00         4.319909\n",
      "10 2010-11-26 21:13:00         4.319909\n",
      "11 2010-11-26 21:14:00         4.319909\n",
      "12 2010-11-26 21:15:00         4.319909\n",
      "13 2010-11-26 21:16:00         4.319909\n",
      "14 2010-11-26 21:17:00         4.319909\n",
      "15 2010-11-26 21:18:00         4.319909\n",
      "16 2010-11-26 21:19:00         4.319909\n",
      "17 2010-11-26 21:20:00         4.319909\n",
      "18 2010-11-26 21:21:00         4.319909\n",
      "19 2010-11-26 21:22:00         4.319909\n",
      "20 2010-11-26 21:23:00         4.319909\n",
      "21 2010-11-26 21:24:00         4.319909\n",
      "22 2010-11-26 21:25:00         4.319909\n",
      "23 2010-11-26 21:26:00         4.319909\n",
      "24 2010-11-26 21:27:00         4.319909\n",
      "25 2010-11-26 21:28:00         4.319909\n",
      "26 2010-11-26 21:29:00         4.319909\n",
      "27 2010-11-26 21:30:00         4.319909\n",
      "28 2010-11-26 21:31:00         4.319909\n",
      "29 2010-11-26 21:32:00         4.319909\n"
     ]
    }
   ],
   "source": [
    "import pandas as pd\n",
    "\n",
    "# Start from last known record\n",
    "latest_values = {\n",
    "    'Global_reactive_power': 0.418,\n",
    "    'Voltage': 234.84,\n",
    "    'Global_intensity': 18.4,\n",
    "    'Sub_metering_1': 0.0,\n",
    "    'Sub_metering_2': 1.0,\n",
    "    'Sub_metering_3': 17.0,\n",
    "    'year': 2010,\n",
    "    'month': 11,\n",
    "    'day': 26,\n",
    "    'hour': 21,\n",
    "    'day_of_week': 4,\n",
    "    'lag_1': 4.216,\n",
    "    'lag_2': 5.360,\n",
    "    'lag_3': 5.374\n",
    "}\n",
    "\n",
    "# Convert to DataFrame\n",
    "future_df = pd.DataFrame([latest_values])[X_train.columns]\n",
    "\n",
    "# Store future predictions\n",
    "future_preds = []\n",
    "\n",
    "# Predict next 30 minutes\n",
    "for i in range(30):\n",
    "    pred = xgb_model.predict(future_df)[0]\n",
    "    future_preds.append(pred)\n",
    "\n",
    "    # Update lag values for next step\n",
    "    future_df['lag_3'] = future_df['lag_2']\n",
    "    future_df['lag_2'] = future_df['lag_1']\n",
    "    future_df['lag_1'] = pred\n",
    "\n",
    "    # Update time features (+1 minute)\n",
    "    dt = pd.Timestamp(\n",
    "        year = int(future_df['year'].iloc[0]),\n",
    "        month = int(future_df['month'].iloc[0]),\n",
    "        day = int(future_df['day'].iloc[0]),\n",
    "        hour = int(future_df['hour'].iloc[0])\n",
    "\n",
    "    )\n",
    "    dt = dt + pd.Timedelta(minutes=1)\n",
    "    future_df['year'] = dt.year\n",
    "    future_df['month'] = dt.month\n",
    "    future_df['day'] = dt.day\n",
    "    future_df['hour'] = dt.hour\n",
    "    future_df['day_of_week'] = dt.dayofweek\n",
    "\n",
    "# Combine results with timestamps\n",
    "start_time = pd.Timestamp(\"2010-11-26 21:03:00\")\n",
    "timestamps = [start_time + pd.Timedelta(minutes=i) for i in range(30)]\n",
    "future_results = pd.DataFrame({'timestamp': timestamps, 'Predicted_Power': future_preds})\n",
    "\n",
    "print(future_results)\n"
   ]
  },
  {
   "cell_type": "code",
   "execution_count": 31,
   "id": "49927013",
   "metadata": {},
   "outputs": [
    {
     "data": {
      "text/plain": [
       "['Electricity_consumption_model.pkl']"
      ]
     },
     "execution_count": 31,
     "metadata": {},
     "output_type": "execute_result"
    }
   ],
   "source": [
    "import joblib\n",
    "joblib.dump(xgb_model, \"Electricity_consumption_model.pkl\")"
   ]
  },
  {
   "cell_type": "code",
   "execution_count": 32,
   "id": "9da6e4dd",
   "metadata": {},
   "outputs": [],
   "source": [
    "# Load your trained model\n",
    "model = joblib.load(\"Electricity_consumption_model.pkl\")"
   ]
  },
  {
   "cell_type": "code",
   "execution_count": 33,
   "id": "35c1ba34",
   "metadata": {},
   "outputs": [
    {
     "name": "stdout",
     "output_type": "stream",
     "text": [
      "             timestamp  Predicted_Power\n",
      "0  2010-11-26 21:03:00         4.303576\n",
      "1  2010-11-26 21:04:00         4.320451\n",
      "2  2010-11-26 21:05:00         4.319909\n",
      "3  2010-11-26 21:06:00         4.319909\n",
      "4  2010-11-26 21:07:00         4.319909\n",
      "5  2010-11-26 21:08:00         4.319909\n",
      "6  2010-11-26 21:09:00         4.319909\n",
      "7  2010-11-26 21:10:00         4.319909\n",
      "8  2010-11-26 21:11:00         4.319909\n",
      "9  2010-11-26 21:12:00         4.319909\n",
      "10 2010-11-26 21:13:00         4.319909\n",
      "11 2010-11-26 21:14:00         4.319909\n",
      "12 2010-11-26 21:15:00         4.319909\n",
      "13 2010-11-26 21:16:00         4.319909\n",
      "14 2010-11-26 21:17:00         4.319909\n",
      "15 2010-11-26 21:18:00         4.319909\n",
      "16 2010-11-26 21:19:00         4.319909\n",
      "17 2010-11-26 21:20:00         4.319909\n",
      "18 2010-11-26 21:21:00         4.319909\n",
      "19 2010-11-26 21:22:00         4.319909\n",
      "20 2010-11-26 21:23:00         4.319909\n",
      "21 2010-11-26 21:24:00         4.319909\n",
      "22 2010-11-26 21:25:00         4.319909\n",
      "23 2010-11-26 21:26:00         4.319909\n",
      "24 2010-11-26 21:27:00         4.319909\n",
      "25 2010-11-26 21:28:00         4.319909\n",
      "26 2010-11-26 21:29:00         4.319909\n",
      "27 2010-11-26 21:30:00         4.319909\n",
      "28 2010-11-26 21:31:00         4.319909\n",
      "29 2010-11-26 21:32:00         4.319909\n"
     ]
    }
   ],
   "source": [
    "import pandas as pd\n",
    "\n",
    "# Start from last known record\n",
    "latest_values = {\n",
    "    'Global_reactive_power': 0.418,\n",
    "    'Voltage': 234.84,\n",
    "    'Global_intensity': 18.4,\n",
    "    'Sub_metering_1': 0.0,\n",
    "    'Sub_metering_2': 1.0,\n",
    "    'Sub_metering_3': 17.0,\n",
    "    'year': 2010,\n",
    "    'month': 11,\n",
    "    'day': 26,\n",
    "    'hour': 21,\n",
    "    'day_of_week': 4,\n",
    "    'lag_1': 4.216,\n",
    "    'lag_2': 5.360,\n",
    "    'lag_3': 5.374\n",
    "}\n",
    "\n",
    "# Convert to DataFrame\n",
    "future_df = pd.DataFrame([latest_values])[X_train.columns]\n",
    "\n",
    "# Store future predictions\n",
    "future_preds = []\n",
    "\n",
    "# Predict next 30 minutes\n",
    "for i in range(30):\n",
    "    pred = model.predict(future_df)[0]\n",
    "    future_preds.append(pred)\n",
    "\n",
    "    # Update lag values for next step\n",
    "    future_df['lag_3'] = future_df['lag_2']\n",
    "    future_df['lag_2'] = future_df['lag_1']\n",
    "    future_df['lag_1'] = pred\n",
    "\n",
    "    # Update time features (+1 minute)\n",
    "    dt = pd.Timestamp(\n",
    "        year = int(future_df['year'].iloc[0]),\n",
    "        month = int(future_df['month'].iloc[0]),\n",
    "        day = int(future_df['day'].iloc[0]),\n",
    "        hour = int(future_df['hour'].iloc[0])\n",
    "\n",
    "    )\n",
    "    dt = dt + pd.Timedelta(minutes=1)\n",
    "    future_df['year'] = dt.year\n",
    "    future_df['month'] = dt.month\n",
    "    future_df['day'] = dt.day\n",
    "    future_df['hour'] = dt.hour\n",
    "    future_df['day_of_week'] = dt.dayofweek\n",
    "\n",
    "# Combine results with timestamps\n",
    "start_time = pd.Timestamp(\"2010-11-26 21:03:00\")\n",
    "timestamps = [start_time + pd.Timedelta(minutes=i) for i in range(30)]\n",
    "future_results = pd.DataFrame({'timestamp': timestamps, 'Predicted_Power': future_preds})\n",
    "\n",
    "print(future_results)\n"
   ]
  },
  {
   "cell_type": "code",
   "execution_count": null,
   "id": "ce6786b1",
   "metadata": {},
   "outputs": [],
   "source": [
    "# Get help from this chat\n",
    "# https://chat.deepseek.com/a/chat/s/b106a172-b954-481b-bed7-a893c7365475"
   ]
  }
 ],
 "metadata": {
  "kernelspec": {
   "display_name": "Python 3",
   "language": "python",
   "name": "python3"
  },
  "language_info": {
   "codemirror_mode": {
    "name": "ipython",
    "version": 3
   },
   "file_extension": ".py",
   "mimetype": "text/x-python",
   "name": "python",
   "nbconvert_exporter": "python",
   "pygments_lexer": "ipython3",
   "version": "3.13.6"
  }
 },
 "nbformat": 4,
 "nbformat_minor": 5
}
